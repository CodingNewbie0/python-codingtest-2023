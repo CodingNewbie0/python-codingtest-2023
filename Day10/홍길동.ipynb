{
 "cells": [
  {
   "attachments": {},
   "cell_type": "markdown",
   "metadata": {},
   "source": [
    "# 카드뭉치 \n",
    "## 문제설명\n",
    "코니는 영어 단어가 적힌 카드 뭉치 두 개를 선물로 받았습니다. 코니는 다음과 같은 규칙으로 카드에 적힌 단어들을 사용해 원하는 순서의 단어 배열을 만들 수 있는지 알고 싶습니다.\n",
    "\n",
    "1. 규칙\n",
    "    - 원하는 카드 뭉치에서 카드를 순서대로 한 장씩 사용합니다.\n",
    "    - 한 번 사용한 카드는 다시 사용할 수 없습니다.\n",
    "    - 카드를 사용하지 않고 다음 카드로 넘어갈 수 없습니다.\n",
    "    - 기존에 주어진 카드 뭉치의 단어 순서는 바꿀 수 없습니다.\n",
    "\n",
    "예를 들어 첫 번째 카드 뭉치에 순서대로 [\"i\", \"drink\", \"water\"], 두 번째 카드 뭉치에 순서대로 [\"want\", \"to\"]가 적혀있을 때 [\"i\", \"want\", \"to\", \"drink\", \"water\"] 순서의 단어 배열을 만들려고 한다면 첫 번째 카드 뭉치에서 \"i\"를 사용한 후 두 번째 카드 뭉치에서 \"want\"와 \"to\"를 사용하고 첫 번째 카드뭉치에 \"drink\"와 \"water\"를 차례대로 사용하면 원하는 순서의 단어 배열을 만들 수 있습니다.\n",
    "\n",
    "문자열로 이루어진 배열 cards1, cards2와 원하는 단어 배열 goal이 매개변수로 주어질 때, cards1과 cards2에 적힌 단어들로 goal를 만들 있다면 \"Yes\"를, 만들 수 없다면 \"No\"를 return하는 solution 함수를 완성해주세요."
   ]
  },
  {
   "attachments": {},
   "cell_type": "markdown",
   "metadata": {},
   "source": [
    "2. 제한사항\n",
    "    - 1 ≤ cards1의 길이, cards2의 길이 ≤ 10\n",
    "        - 1 ≤ cards1[i]의 길이, cards2[i]의 길이 ≤ 10\n",
    "        - cards1과 cards2에는 서로 다른 단어만 존재합니다.\n",
    "    - 2 ≤ goal의 길이 ≤ cards1의 길이 + cards2의 길이\n",
    "        - 1 ≤ goal[i]의 길이 ≤ 10\n",
    "        - goal의 원소는 cards1과 cards2의 원소들로만 이루어져 있습니다.\n",
    "    - cards1, cards2, goal의 문자열들은 모두 알파벳 소문자로만 이루어져 있습니다."
   ]
  },
  {
   "attachments": {},
   "cell_type": "markdown",
   "metadata": {},
   "source": [
    "## 입출력 예\n",
    "```python\n",
    "cards1\tcards2\tgoal\tresult\n",
    "[\"i\", \"drink\", \"water\"]\t[\"want\", \"to\"]\t[\"i\", \"want\", \"to\", \"drink\", \"water\"]\t\"Yes\"\n",
    "[\"i\", \"water\", \"drink\"]\t[\"want\", \"to\"]\t[\"i\", \"want\", \"to\", \"drink\", \"water\"]\t\"No\"\n",
    "```\n",
    "## 입출력 예 설명\n",
    "1. 입출력 예 #1\n",
    "    - 본문과 같습니다.\n",
    "    \n",
    "2. 입출력 예 #2\n",
    "    - cards1에서 \"i\"를 사용하고 cards2에서 \"want\"와 \"to\"를 사용하여 \"i want to\"까지는 만들 수 있지만 \"water\"가 \"drink\"보다 먼저 사용되어야 하기 때문에 해당 문장을 완성시킬 수 없습니다. 따라서 \"No\"를 반환합니다."
   ]
  },
  {
   "cell_type": "code",
   "execution_count": 4,
   "metadata": {},
   "outputs": [],
   "source": [
    "# 카드뭉치\n",
    "def solution(cards1, cards2, goal): # 함수정의\n",
    "    c1 = 0\n",
    "    c2 = 0\n",
    "    cl1 = len(cards1) # len은 입력값의 길이(요소의 전체 개수)를 리턴하는 함수\n",
    "    cl2 = len(cards2)\n",
    "\n",
    "    for cardList in goal: # cardList의 값을 반복하여 실행\n",
    "        if ((c1 < cl1) and (cardList == cards1[c1])): # cl1이 c1보다 크고, 선언한 cardList의 개수가 cards1의 변수와 값(개수)이 같을때,\n",
    "            c1 += 1 # c1이 1개 증가\n",
    "\n",
    "        elif ((c2 < cl2) and (cardList == cards2[c2])):\n",
    "            c2 += 1\n",
    "\n",
    "        else:\n",
    "            return 'No' # 두 조건을 충족하지 않을시, 리턴값으로 No를 출력함\n",
    "\n",
    "    return 'Yes' # 리턴값으로 Yes를 출력함\n"
   ]
  },
  {
   "attachments": {},
   "cell_type": "markdown",
   "metadata": {},
   "source": [
    "# 체육복\n",
    "## 문제설명\n",
    "점심시간에 도둑이 들어, 일부 학생이 체육복을 도난당했습니다. 다행히 여벌 체육복이 있는 학생이 이들에게 체육복을 빌려주려 합니다. 학생들의 번호는 체격 순으로 매겨져 있어, 바로 앞번호의 학생이나 바로 뒷번호의 학생에게만 체육복을 빌려줄 수 있습니다. 예를 들어, 4번 학생은 3번 학생이나 5번 학생에게만 체육복을 빌려줄 수 있습니다. 체육복이 없으면 수업을 들을 수 없기 때문에 체육복을 적절히 빌려 최대한 많은 학생이 체육수업을 들어야 합니다.\n",
    "\n",
    "전체 학생의 수 n, 체육복을 도난당한 학생들의 번호가 담긴 배열 lost, 여벌의 체육복을 가져온 학생들의 번호가 담긴 배열 reserve가 매개변수로 주어질 때, 체육수업을 들을 수 있는 학생의 최댓값을 return 하도록 solution 함수를 작성해주세요.\n"
   ]
  },
  {
   "attachments": {},
   "cell_type": "markdown",
   "metadata": {},
   "source": [
    "1. 제한사항\n",
    "    - 전체 학생의 수는 2명 이상 30명 이하입니다.\n",
    "    - 체육복을 도난당한 학생의 수는 1명 이상 n명 이하이고 중복되는 번호는 없습니다.\n",
    "    - 여벌의 체육복을 가져온 학생의 수는 1명 이상 n명 이하이고 중복되는 번호는 없습니다.\n",
    "    - 여벌 체육복이 있는 학생만 다른 학생에게 체육복을 빌려줄 수 있습니다.\n",
    "    - 여벌 체육복을 가져온 학생이 체육복을 도난당했을 수 있습니다. 이때 이 학생은 체육복을 하나만 도난당했다고 가정하며, 남은 체육복이 하나이기에 다른 학생에게는 체육복을 빌려줄 수 없습니다."
   ]
  },
  {
   "attachments": {},
   "cell_type": "markdown",
   "metadata": {},
   "source": [
    "## 입출력 예\n",
    "```python\n",
    "n\t lost\t reserve     return\n",
    "5\t[2, 4]\t[1, 3, 5]  \t5\n",
    "5\t[2, 4]\t[3]\t4\n",
    "3\t[3]\t[1]\t2\n",
    "```\n",
    "\n",
    "## 입출력 예 설명\n",
    "1. 예제 #1\n",
    "    - 1번 학생이 2번 학생에게 체육복을 빌려주고, 3번 학생이나 5번 학생이 4번 학생에게 체육복을 빌려주면 학생 5명이 체육수업을 들을 수 있습니다.\n",
    "\n",
    "2. 예제 #2\n",
    "    - 3번 학생이 2번 학생이나 4번 학생에게 체육복을 빌려주면 학생 4명이 체육수업을 들을 수 있습니다."
   ]
  },
  {
   "cell_type": "code",
   "execution_count": 5,
   "metadata": {},
   "outputs": [],
   "source": [
    "# 체육복\n",
    "def solution(n, lost, reserve): # 함수정의\n",
    "    lost.sort() # sort 함수로 정렬\n",
    "    reserve.sort() \n",
    "\n",
    "    for i, _ in enumerate(reserve): # enumerate : 순서와 리스트의 값을 전달하는 기능\n",
    "        if reserve[i] in lost:\n",
    "            lost.remove(reserve[i])\n",
    "        elif reserve[i] - 1 in lost:\n",
    "            lost.remove(reserve[i] - 1)\n",
    "        elif reserve[i] + 1 in lost:\n",
    "            lost.remove(reserve[i] + 1)\n",
    "\n",
    "    return n - len(lost)"
   ]
  }
 ],
 "metadata": {
  "kernelspec": {
   "display_name": "Python 3",
   "language": "python",
   "name": "python3"
  },
  "language_info": {
   "codemirror_mode": {
    "name": "ipython",
    "version": 3
   },
   "file_extension": ".py",
   "mimetype": "text/x-python",
   "name": "python",
   "nbconvert_exporter": "python",
   "pygments_lexer": "ipython3",
   "version": "3.11.1"
  },
  "orig_nbformat": 4,
  "vscode": {
   "interpreter": {
    "hash": "a3d8f53f1429d27b792a3789224562ddd32c1395c9a9cfbb17b3c19c3b9a493d"
   }
  }
 },
 "nbformat": 4,
 "nbformat_minor": 2
}
